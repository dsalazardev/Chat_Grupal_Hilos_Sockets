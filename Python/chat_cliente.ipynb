{
 "cells": [
  {
   "cell_type": "code",
   "id": "initial_id",
   "metadata": {
    "collapsed": true,
    "ExecuteTime": {
     "end_time": "2025-10-26T23:20:16.123396Z",
     "start_time": "2025-10-26T23:18:11.597219Z"
    }
   },
   "source": [
    "import socket\n",
    "import threading\n",
    "import sys\n",
    "import os\n",
    "\n",
    "class ChatClient:\n",
    "\n",
    "    def __init__(self, host, port):\n",
    "        self.host = host\n",
    "        self.port = port\n",
    "        self.server_address = (host, port)\n",
    "\n",
    "        self.sock = socket.socket(socket.AF_INET, socket.SOCK_STREAM)\n",
    "        self.nombre_usuario = None\n",
    "\n",
    "    def _listen_for_messages(self):\n",
    "        while True:\n",
    "            try:\n",
    "                data = self.sock.recv(1024)\n",
    "                if not data:\n",
    "                    print(\"\\n[DESCONECTADO] El servidor ha cerrado la conexión.\")\n",
    "                    self.sock.close()\n",
    "                    os._exit(0)\n",
    "\n",
    "                mensaje_recibido = data.decode('utf-8')\n",
    "\n",
    "                if mensaje_recibido.startswith(\"Error:\"):\n",
    "                    print(f\"\\n[ERROR DEL SERVIDOR] {mensaje_recibido}\")\n",
    "                    self.sock.close()\n",
    "                    os._exit(0)\n",
    "\n",
    "                print(mensaje_recibido, end='')\n",
    "\n",
    "            except Exception:\n",
    "                print(\"\\n[ERROR] Se ha perdido la conexión con el servidor.\")\n",
    "                self.sock.close()\n",
    "                os._exit(0)\n",
    "\n",
    "    def _send_messages_loop(self):\n",
    "        try:\n",
    "            while True:\n",
    "                mensaje = input()\n",
    "\n",
    "                if mensaje.lower() == 'salir':\n",
    "                    break\n",
    "\n",
    "                self.sock.sendall(mensaje.encode('utf-8'))\n",
    "\n",
    "        except (KeyboardInterrupt, EOFError):\n",
    "            print(\"\\nSaliendo del chat...\")\n",
    "        finally:\n",
    "            print('Cerrando conexión...')\n",
    "            self.sock.close()\n",
    "            sys.exit()\n",
    "\n",
    "    def start(self):\n",
    "        self.nombre_usuario = input(\"Ingresa tu nombre de usuario para el chat: \")\n",
    "        if not self.nombre_usuario:\n",
    "            print(\"El nombre no puede estar vacío. Saliendo.\")\n",
    "            return\n",
    "\n",
    "        try:\n",
    "            print(f'Conectando como \"{self.nombre_usuario}\" a {self.host}:{self.port}...')\n",
    "            self.sock.connect(self.server_address)\n",
    "\n",
    "            self.sock.sendall(self.nombre_usuario.encode('utf-8'))\n",
    "\n",
    "            print(f'¡Conectado! Escribe \"salir\" para desconectarte.')\n",
    "\n",
    "        except ConnectionRefusedError:\n",
    "             print(f\"[ERROR] No se pudo conectar. Asegúrate de que el servidor esté encendido.\")\n",
    "             return\n",
    "        except Exception as e:\n",
    "            print(f\"[ERROR] No se pudo conectar: {e}\")\n",
    "            return\n",
    "\n",
    "        receiver_thread = threading.Thread(target=self._listen_for_messages, daemon=True)\n",
    "        receiver_thread.start()\n",
    "\n",
    "        self._send_messages_loop()\n",
    "\n",
    "if __name__ == \"__main__\":\n",
    "    HOST = 'localhost'\n",
    "    PORT = 8070\n",
    "\n",
    "    cliente = ChatClient(HOST, PORT)\n",
    "    cliente.start()"
   ],
   "outputs": [
    {
     "name": "stdout",
     "output_type": "stream",
     "text": [
      "Conectando como \"Daner\" a localhost:8070...\n",
      "¡Conectado! Escribe \"salir\" para desconectarte.\n",
      "\n",
      "Saliendo del chat...\n",
      "Cerrando conexión...\n"
     ]
    },
    {
     "ename": "SystemExit",
     "evalue": "",
     "output_type": "error",
     "traceback": [
      "An exception has occurred, use %tb to see the full traceback.\n",
      "\u001B[0;31mSystemExit\u001B[0m\n"
     ]
    },
    {
     "name": "stderr",
     "output_type": "stream",
     "text": [
      "/home/salazar/anaconda3/lib/python3.13/site-packages/IPython/core/interactiveshell.py:3585: UserWarning: To exit: use 'exit', 'quit', or Ctrl-D.\n",
      "  warn(\"To exit: use 'exit', 'quit', or Ctrl-D.\", stacklevel=1)\n"
     ]
    }
   ],
   "execution_count": 2
  },
  {
   "metadata": {},
   "cell_type": "code",
   "outputs": [],
   "execution_count": null,
   "source": "",
   "id": "216dd4b35387e35f"
  }
 ],
 "metadata": {
  "kernelspec": {
   "display_name": "Python 3",
   "language": "python",
   "name": "python3"
  },
  "language_info": {
   "codemirror_mode": {
    "name": "ipython",
    "version": 2
   },
   "file_extension": ".py",
   "mimetype": "text/x-python",
   "name": "python",
   "nbconvert_exporter": "python",
   "pygments_lexer": "ipython2",
   "version": "2.7.6"
  }
 },
 "nbformat": 4,
 "nbformat_minor": 5
}
